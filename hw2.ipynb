{
 "cells": [
  {
   "cell_type": "markdown",
   "metadata": {},
   "source": [
    "# 로지스틱 맵"
   ]
  },
  {
   "cell_type": "code",
   "execution_count": 33,
   "metadata": {},
   "outputs": [],
   "source": [
    "def logistic(r,f,n):\n",
    "    for i in range(n):\n",
    "        f=r*f*(1-f)\n",
    "        print(f)\n",
    "    return f   \n"
   ]
  },
  {
   "cell_type": "code",
   "execution_count": 35,
   "metadata": {},
   "outputs": [
    {
     "name": "stdout",
     "output_type": "stream",
     "text": [
      "1.125\n",
      "-0.6328125\n",
      "-4.649688720703125\n",
      "-118.21182264061645\n",
      "-63415.11075595729\n",
      "-18096928592.854885\n",
      "-1.4737447103084353e+21\n",
      "-9.773655620229423e+42\n",
      "-4.298595488227898e+86\n",
      "-8.315065427135959e+173\n",
      "-inf\n",
      "-inf\n",
      "-inf\n",
      "-inf\n",
      "-inf\n",
      "-inf\n",
      "-inf\n",
      "-inf\n",
      "-inf\n",
      "-inf\n"
     ]
    },
    {
     "data": {
      "text/plain": [
       "-inf"
      ]
     },
     "execution_count": 35,
     "metadata": {},
     "output_type": "execute_result"
    }
   ],
   "source": [
    "logistic(4.5,0.5,20)"
   ]
  },
  {
   "cell_type": "code",
   "execution_count": 36,
   "metadata": {},
   "outputs": [
    {
     "name": "stdout",
     "output_type": "stream",
     "text": [
      "1.12455\n",
      "-0.6302821612499996\n",
      "-4.623919938179865\n",
      "-117.0204998979472\n",
      "-62148.68053318534\n",
      "-17381342883.134087\n",
      "-1.359499861973058e+21\n",
      "-8.317079436171436e+42\n",
      "-3.11282146564136e+86\n",
      "-4.360345864630932e+173\n",
      "-inf\n",
      "-inf\n",
      "-inf\n",
      "-inf\n",
      "-inf\n",
      "-inf\n",
      "-inf\n",
      "-inf\n",
      "-inf\n",
      "-inf\n"
     ]
    },
    {
     "data": {
      "text/plain": [
       "-inf"
      ]
     },
     "execution_count": 36,
     "metadata": {},
     "output_type": "execute_result"
    }
   ],
   "source": [
    "logistic(4.5,0.51,20)"
   ]
  },
  {
   "cell_type": "code",
   "execution_count": 37,
   "metadata": {},
   "outputs": [
    {
     "name": "stdout",
     "output_type": "stream",
     "text": [
      "1.1249955\n",
      "-0.6327871875911253\n",
      "-4.649430655667751\n",
      "-118.19986234888862\n",
      "-63402.33294740298\n",
      "-18089636514.7783\n",
      "-1.4725572716470052e+21\n",
      "-9.757912132262123e+42\n",
      "-4.2847582131426745e+86\n",
      "-8.261618825292122e+173\n",
      "-inf\n",
      "-inf\n",
      "-inf\n",
      "-inf\n",
      "-inf\n",
      "-inf\n",
      "-inf\n",
      "-inf\n",
      "-inf\n",
      "-inf\n"
     ]
    },
    {
     "data": {
      "text/plain": [
       "-inf"
      ]
     },
     "execution_count": 37,
     "metadata": {},
     "output_type": "execute_result"
    }
   ],
   "source": [
    "logistic(4.5,0.501,20)"
   ]
  },
  {
   "cell_type": "markdown",
   "metadata": {},
   "source": [
    "# 피보나치 수"
   ]
  },
  {
   "cell_type": "code",
   "execution_count": 79,
   "metadata": {},
   "outputs": [],
   "source": [
    "def Fibonacci(n):\n",
    "    l=[]\n",
    "    \n",
    "    for i in range(n):\n",
    "        if i <=1:\n",
    "            l.append(1)\n",
    "        else:\n",
    "            k=l[i-2]+l[i-1]\n",
    "            l.append(k)\n",
    "    print(l[n-1])"
   ]
  },
  {
   "cell_type": "code",
   "execution_count": 78,
   "metadata": {
    "scrolled": true
   },
   "outputs": [
    {
     "name": "stdout",
     "output_type": "stream",
     "text": [
      "55\n"
     ]
    }
   ],
   "source": [
    "Fibonacci(10)"
   ]
  }
 ],
 "metadata": {
  "kernelspec": {
   "display_name": "Python 3",
   "language": "python",
   "name": "python3"
  },
  "language_info": {
   "codemirror_mode": {
    "name": "ipython",
    "version": 3
   },
   "file_extension": ".py",
   "mimetype": "text/x-python",
   "name": "python",
   "nbconvert_exporter": "python",
   "pygments_lexer": "ipython3",
   "version": "3.8.5"
  }
 },
 "nbformat": 4,
 "nbformat_minor": 4
}
